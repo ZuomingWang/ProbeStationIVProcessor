{
 "cells": [
  {
   "cell_type": "code",
   "execution_count": 7,
   "id": "003c36a7",
   "metadata": {
    "scrolled": true
   },
   "outputs": [
    {
     "name": "stdout",
     "output_type": "stream",
     "text": [
      "Welcome to my script! \n",
      "Auther: Zuoming Wang \n",
      "Date: 22th May, 2023\n"
     ]
    }
   ],
   "source": [
    "import pandas as pd\n",
    "print(\"Welcome to my script! \\nAuther: Zuoming Wang \\nDate: 22th May, 2023\")"
   ]
  },
  {
   "cell_type": "code",
   "execution_count": 8,
   "id": "24c628ca",
   "metadata": {},
   "outputs": [],
   "source": [
    "# Prepare variables for loop\n",
    "\n",
    "d0 = pd.DataFrame({\"REPEAT\":[],\"VOLTAGE(V)\":[],\"CURRENT(A)\":[]}).astype('float64')\n",
    "size = 0\n",
    "# print(d0)"
   ]
  },
  {
   "cell_type": "code",
   "execution_count": 9,
   "id": "771aeff3",
   "metadata": {},
   "outputs": [],
   "source": [
    "area = 1.59*10**(-5)"
   ]
  },
  {
   "cell_type": "code",
   "execution_count": 10,
   "id": "abc6ae62",
   "metadata": {},
   "outputs": [
    {
     "name": "stdout",
     "output_type": "stream",
     "text": [
      "Cut every curve to Voltage from -1V to 1V\n",
      "20 * 101\n",
      "Cut every curve to Voltage from -1V to 1V\n",
      "20 * 101\n",
      "Cut every curve to Voltage from -1V to 1V\n",
      "Eliminate the incomplete repeat\n",
      "492 * 101\n"
     ]
    }
   ],
   "source": [
    "# Loop\n",
    "while True:\n",
    "    src = input(\"\\nPlease enter your input file name (Press 'enter' to finish): \")+'.csv' \n",
    "    \n",
    "# Close the loop\n",
    "    if src == '.csv':       \n",
    "## Get size without duplicates in \"REPEAT\"\n",
    "        n = len(d0[d0[\"REPEAT\"] == 1]) # How many points in one single curve\n",
    "        distinct = d0.drop_duplicates(subset=[\"REPEAT\"])\n",
    "        size = distinct.count().iloc[0] # How many curves are there\n",
    "        break\n",
    "        \n",
    "# In the loop    \n",
    "## Read file, select colums, edit\"REPEAT\"\n",
    "    df = pd.read_csv(src, header=1).astype('float64')\n",
    "    df = df[[\"REPEAT\", \"VOLTAGE(V)\", \"CURRENT(A)\"]]\n",
    "    \n",
    "    print(\"Cut every curve to Voltage from -1V to 1V\")\n",
    "    \n",
    "    df = df[df[\"VOLTAGE(V)\"] >= -1.0019]\n",
    "    df = df[df[\"VOLTAGE(V)\"] <= 1]\n",
    "    df = df.reset_index(drop=True)\n",
    "    \n",
    "    n = len(df[df[\"REPEAT\"] == 1]) # How many points in one single curve\n",
    "    size_df = len(df) // n # How many curves are in this .csv file\n",
    "    \n",
    "\n",
    "   \n",
    "    if size_df * n != len(df):\n",
    "        df = df[df[\"REPEAT\"] != size_df + 1]\n",
    "        print(\"Eliminate the incomplete repeat\")\n",
    "    # print(df.head(len(df)))\n",
    "    print(f\"{size_df} * {n}\")\n",
    "    \n",
    "    df['REPEAT'] += size\n",
    "                     \n",
    "## Merge file\n",
    "    d0 = pd.concat([d0,df], axis=0)\n",
    "    \n",
    "## Get size without duplicates in \"REPEAT\"\n",
    "    distinct = d0.drop_duplicates(subset=[\"REPEAT\"])\n",
    "    size = distinct.count().iloc[0] # How many curves are there"
   ]
  },
  {
   "cell_type": "code",
   "execution_count": 11,
   "id": "83e4662a",
   "metadata": {},
   "outputs": [
    {
     "name": "stdout",
     "output_type": "stream",
     "text": [
      "532 * 101\n",
      "\n",
      "Merge complete!\n"
     ]
    }
   ],
   "source": [
    "# print(f\"\\nTotal:\\n{d0.head(len(d0))}\")\n",
    "\n",
    "print(f'{size} * {n}')\n",
    "print(\"\\nMerge complete!\")"
   ]
  },
  {
   "cell_type": "code",
   "execution_count": 12,
   "id": "43e7dc41",
   "metadata": {},
   "outputs": [
    {
     "name": "stdout",
     "output_type": "stream",
     "text": [
      "Voltage = 0V, index =  50\n"
     ]
    }
   ],
   "source": [
    "# Get the index of minimal \"VOLTAGE(V)\"  \n",
    "\n",
    "edit_data = d0[d0['REPEAT'] == 1][\"VOLTAGE(V)\"]\n",
    "x = abs(edit_data).idxmin(axis = 0, skipna = True) # x: The index of minimal \"VOLTAGE(V)\" \n",
    "print(\"Voltage = 0V, index = \",x)"
   ]
  },
  {
   "cell_type": "code",
   "execution_count": 13,
   "id": "04870cf7",
   "metadata": {},
   "outputs": [
    {
     "name": "stdout",
     "output_type": "stream",
     "text": [
      "Voltage = 1V,  index = 100\n",
      "Voltage = -1V, index = 0\n"
     ]
    }
   ],
   "source": [
    "# Get the index of \"VOLTAGE(V)\" = -1V & 1V\n",
    "\n",
    "VR = d0[d0['VOLTAGE(V)'] == 1][\"CURRENT(A)\"].index.min()\n",
    "print(f\"Voltage = 1V,  index = {VR}\")\n",
    "\n",
    "VL = d0[d0['VOLTAGE(V)'] == -1][\"CURRENT(A)\"].index.min()\n",
    "print(f\"Voltage = -1V, index = {VL}\")"
   ]
  },
  {
   "cell_type": "code",
   "execution_count": 14,
   "id": "667e7a53",
   "metadata": {},
   "outputs": [
    {
     "name": "stdout",
     "output_type": "stream",
     "text": [
      "Eliminated number:  507\n",
      "Rest total number:  25\n",
      "Eliminated number:  507\n",
      "Rest total number:  25\n",
      "Eliminated number:  450\n",
      "Rest total number:  82\n"
     ]
    }
   ],
   "source": [
    "# Select retification factor\n",
    "\n",
    "while True:\n",
    "    num = 0 # How many curves need to be removed\n",
    "    remove = [] # List for No.of curves that need to be removed\n",
    "    RF_low = float(input(\"Please enter the minimal recitification factor: \")) # Retification factor\n",
    "    RF_high = float(input(\"Please enter the maximal recitification factor: \"))\n",
    "    \n",
    "    for row in range(0,size): # size: How many curves are there\n",
    "        \n",
    "            select_data = d0[d0['REPEAT'] == row+1][\"CURRENT(A)\"] # Select_data: Every data in a single curve (n = # points in a single curve)\n",
    "            select_data = select_data.reset_index(drop=True)\n",
    "#             select_data.index = [i for i in range(int(n))] # Reset the index of select_data\n",
    "            select_data = select_data.rename(f'{str(row+1)}') # Rename each curve                       \n",
    "            select_data += (0 - select_data[x]) # Edit every curve such that all curves pass through (0, 0) \n",
    "            \n",
    "                                      \n",
    "            if abs(select_data[VR])/abs(select_data[VL]) < RF_low or abs(select_data[VR])/abs(select_data[VL]) > RF_high:\n",
    "                 a = int(select_data.name) \n",
    "                 remove.append(a) # Remove: Collect all curves that need to be removed in to a list               \n",
    "                 num += 1 # Calculate how many curves are to be removed \n",
    "                    \n",
    "#    print(\"\\nEliminate data: \", remove)                \n",
    "    print(\"Eliminated number: \", num)\n",
    "    print(\"Rest total number: \", size - num)\n",
    "    \n",
    "    choice = input(\"Press 'enter' to continue\\n(Or press 'space' + 'enter' if you want to re-define the recitification factor: \")\n",
    "    if choice == \" \":\n",
    "        continue\n",
    "    break"
   ]
  },
  {
   "cell_type": "code",
   "execution_count": 15,
   "id": "1e00c93d",
   "metadata": {},
   "outputs": [
    {
     "name": "stdout",
     "output_type": "stream",
     "text": [
      "NOTICE: Please check is any .csv file open\n"
     ]
    }
   ],
   "source": [
    "# Please define your output file name\n",
    "\n",
    "print(\"NOTICE: Please check is any .csv file open\")\n",
    "out_file = input('Please enter your output file name: ')"
   ]
  },
  {
   "cell_type": "code",
   "execution_count": 16,
   "id": "2c929afb",
   "metadata": {},
   "outputs": [
    {
     "name": "stdout",
     "output_type": "stream",
     "text": [
      "82 * 101\n"
     ]
    }
   ],
   "source": [
    "# Remove data\n",
    "\n",
    "for i in remove: # remove: List for No.of curves that need to be removed\n",
    "    d0 = d0[d0.REPEAT != i] # Remove data with selected No.of curve\n",
    "# print(f\"After removing data: \\n{d0.head(len(d0))}\")\n",
    "print(f\"{size - num} * {n}\")"
   ]
  },
  {
   "cell_type": "code",
   "execution_count": 17,
   "id": "c8e23ae7",
   "metadata": {},
   "outputs": [],
   "source": [
    "# Create another dataframe: d1\n",
    "\n",
    "d0.index = [i for i in range(len(d0))] # Reset the index of d0\n",
    "d1 = d0[[\"VOLTAGE(V)\"]].astype(\"float64\")\n",
    "d1 = d1[d1.index < int(n)]\n",
    "# print(d1)"
   ]
  },
  {
   "cell_type": "code",
   "execution_count": 18,
   "id": "8ae9808b",
   "metadata": {},
   "outputs": [],
   "source": [
    "d2 = d1"
   ]
  },
  {
   "cell_type": "code",
   "execution_count": 19,
   "id": "4995a315",
   "metadata": {},
   "outputs": [
    {
     "name": "stdout",
     "output_type": "stream",
     "text": [
      "The first valid 'REPEAT' = 1.0\n"
     ]
    }
   ],
   "source": [
    "# Get a valid \"REPEAT\" value\n",
    "\n",
    "valid = (d0[\"REPEAT\"]).iloc[0]\n",
    "print(f\"The first valid 'REPEAT' = {valid}\" )"
   ]
  },
  {
   "cell_type": "code",
   "execution_count": 20,
   "id": "4f199b85",
   "metadata": {},
   "outputs": [
    {
     "name": "stdout",
     "output_type": "stream",
     "text": [
      "unit = [uA]\n"
     ]
    }
   ],
   "source": [
    "# chage unit, divided by area\n",
    "# d0['Cal'] = abs(d0[\"VOLTAGE(V)\"] ** 2 / d0[\"CURRENT(A)\"]) * area # V^2/(A/cm2)\n",
    "\n",
    "d0[\"CURRENT(A)\"] = d0[\"CURRENT(A)\"] * 10**6 # [A] -> [uA]\n",
    "d0.columns = ['REPEAT','VOLTAGE(V)','CURRENT(uA)']\n",
    "print(\"unit = [uA]\")\n",
    "# print(d0.head())"
   ]
  },
  {
   "cell_type": "code",
   "execution_count": 21,
   "id": "c456c847",
   "metadata": {},
   "outputs": [],
   "source": [
    "# Get the index of minimal abs(\"VOLTAGE(V)\") \n",
    "\n",
    "edit_data = d0[d0['REPEAT'] == valid][\"VOLTAGE(V)\"]\n",
    "# print(d0.head())\n",
    "x = abs(edit_data).idxmin(axis = 0, skipna = True) # x: The index of minimal \"VOLTAGE(V)\""
   ]
  },
  {
   "cell_type": "code",
   "execution_count": 22,
   "id": "dcf2c9b8",
   "metadata": {},
   "outputs": [
    {
     "name": "stdout",
     "output_type": "stream",
     "text": [
      "Organizing data...\n",
      "Please be patient, this process may take a few minutes\n"
     ]
    }
   ],
   "source": [
    "# Split and transfer data to d1 & delete data in d0\n",
    "\n",
    "print('Organizing data...\\nPlease be patient, this process may take a few minutes')\n",
    "\n",
    "\n",
    "index = 0\n",
    "\n",
    "for i in range(size - num):\n",
    "\n",
    "    select_group = d0.drop_duplicates(subset=[\"VOLTAGE(V)\"]).astype('float64') # type(select_group) = dataframe\n",
    "    # print(select_group.head())\n",
    "    \n",
    "    repeat = int(select_group.at[index,\"REPEAT\"]) # Extract every same \"REPEAT\" in one run\n",
    "\n",
    "        \n",
    "    select_data = select_group[\"CURRENT(uA)\"] # Choose data with the same \"REPEAR\"     \n",
    "    select_data = select_data.rename(f'{str(repeat)}') # Rename columns\n",
    "    select_data = select_data.reset_index(drop=True)\n",
    "    select_data += (0 - select_data[x]) # Edit every curve such that all curves pass through (0, 0) \n",
    "    d1 = pd.concat([d1, select_data], axis = 1) # Transfer data to d1\n",
    "    \n",
    "\n",
    "    select_data2 = abs(edit_data ** 2 / select_data) * area * 10 ** 6\n",
    "    select_data2 = select_data2.rename(f'{str(repeat)}') # Rename columns\n",
    "#     select_data2 = select_data2.reset_index(drop=True)\n",
    "    d2 = pd.concat([d2, select_data2], axis = 1) # Transfer data to d1   \n",
    "    \n",
    "    \n",
    "       \n",
    "    d0 = d0[d0.REPEAT != repeat] # Eliminate data from d0\n",
    "    \n",
    "    index += int(n) # Adding index to points that belong to next curve\n",
    "    \n",
    "\n",
    "    \n"
   ]
  },
  {
   "cell_type": "code",
   "execution_count": 23,
   "id": "b0b409c4",
   "metadata": {},
   "outputs": [],
   "source": [
    "# d2.fillna(0,inplace=True)\n",
    "    \n",
    "    \n",
    "    \n",
    "# print(d1.head(len(d1)))\n",
    "# print(d2.head(len(d1)))"
   ]
  },
  {
   "cell_type": "code",
   "execution_count": 24,
   "id": "c7af2e35",
   "metadata": {},
   "outputs": [
    {
     "name": "stdout",
     "output_type": "stream",
     "text": [
      "Complete! \n",
      "[Voltage]=V, [Current]=uA\n"
     ]
    }
   ],
   "source": [
    "##### Export dataframe to .csv\n",
    "\n",
    "d1.to_csv(out_file + \"_forOrigin.csv\", index=False, header=True)\n",
    "d2.to_csv(out_file + \"_forOrigin2.csv\", index=False, header=True)\n",
    "print(\"Complete! \\n[Voltage]=V, [Current]=uA\")"
   ]
  },
  {
   "cell_type": "code",
   "execution_count": 25,
   "id": "2fef170e",
   "metadata": {},
   "outputs": [],
   "source": [
    "# Choose if restart\n",
    "import os\n",
    "import sys\n",
    "choice = input(\"Restart? (y/n)? \")\n",
    "def restart_program():\n",
    "    python = sys.executable\n",
    "    os.execl(python, python, * sys.argv)\n",
    "if choice == 'y':\n",
    "    print('restart...')\n",
    "    restart_program()"
   ]
  }
 ],
 "metadata": {
  "kernelspec": {
   "display_name": "env",
   "language": "python",
   "name": "python3"
  },
  "language_info": {
   "codemirror_mode": {
    "name": "ipython",
    "version": 3
   },
   "file_extension": ".py",
   "mimetype": "text/x-python",
   "name": "python",
   "nbconvert_exporter": "python",
   "pygments_lexer": "ipython3",
   "version": "3.9.6"
  }
 },
 "nbformat": 4,
 "nbformat_minor": 5
}
